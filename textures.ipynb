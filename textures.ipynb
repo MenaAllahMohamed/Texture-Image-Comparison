{
 "cells": [
  {
   "cell_type": "markdown",
   "metadata": {},
   "source": [
    "# load images and resize them "
   ]
  },
  {
   "cell_type": "code",
   "execution_count": 1,
   "metadata": {},
   "outputs": [],
   "source": [
    "from os import listdir\n",
    "from PIL import Image \n",
    "from skimage.io import imread, imshow\n",
    "from skimage.transform import resize\n",
    "import numpy as np\n",
    "from skimage.color import rgb2gray\n",
    "\n",
    "\n",
    "def load_resize(images_path):\n",
    "    # return array of resized images\n",
    "    imagesList = listdir(images_path)\n",
    "    loadedResizedImages = []\n",
    "    for image in imagesList:\n",
    "        img = imread(images_path + image)\n",
    "        grayimg = rgb2gray(img)\n",
    "        resized_img = resize(grayimg,(32,32))\n",
    "        loadedResizedImages.append(resized_img)\n",
    "\n",
    "    return loadedResizedImages"
   ]
  },
  {
   "cell_type": "code",
   "execution_count": 2,
   "metadata": {
    "scrolled": true
   },
   "outputs": [
    {
     "name": "stderr",
     "output_type": "stream",
     "text": [
      "<ipython-input-1-2276c3d9f1e0>:15: FutureWarning: The behavior of rgb2gray will change in scikit-image 0.19. Currently, rgb2gray allows 2D grayscale image to be passed as inputs and leaves them unmodified as outputs. Starting from version 0.19, 2D arrays will be treated as 1D images with 3 channels.\n",
      "  grayimg = rgb2gray(img)\n"
     ]
    },
    {
     "data": {
      "text/plain": [
       "Text(0.5, 1.0, 'canvas')"
      ]
     },
     "execution_count": 2,
     "metadata": {},
     "output_type": "execute_result"
    },
    {
     "data": {
      "image/png": "[encoded data removed]",
      "text/plain": [
       "<Figure size 432x288 with 1 Axes>"
      ]
     },
     "metadata": {
      "needs_background": "light"
     },
     "output_type": "display_data"
    }
   ],
   "source": [
    "dirs = ['canvas1','cushion1','linsseeds1','sand1','seat2','stone1']\n",
    "train = []\n",
    "for dir_ in dirs :\n",
    "    train.append(load_resize(\"textures\\\\training\"+\"\\\\\"+dir_+\"\\\\\"))\n",
    "train = [list for sublist in train for list in sublist]\n",
    "\n",
    "test = []\n",
    "for dir_ in dirs :\n",
    "    test.append(load_resize(\"textures\\\\testing\"+\"\\\\\"+dir_+\"\\\\\"))\n",
    "test = [list for sublist in test for list in sublist]\n",
    "\n",
    "import matplotlib.pyplot as plt\n",
    "\n",
    "plt.subplot(121), imshow(train[0])\n",
    "plt.title('canvas') \n",
    "\n"
   ]
  },
  {
   "cell_type": "code",
   "execution_count": 3,
   "metadata": {},
   "outputs": [
    {
     "name": "stdout",
     "output_type": "stream",
     "text": [
      "180\n",
      "60\n"
     ]
    }
   ],
   "source": [
    "print(len(train))\n",
    "print(len(test))"
   ]
  },
  {
   "cell_type": "markdown",
   "metadata": {},
   "source": [
    "# Images matching "
   ]
  },
  {
   "cell_type": "code",
   "execution_count": 4,
   "metadata": {},
   "outputs": [],
   "source": [
    "trainflatten_img = []\n",
    "for img in train:\n",
    "    trainflatten_img.append(list(img.flatten()))\n",
    "\n",
    "testflatten_img = []\n",
    "for img in test:\n",
    "    testflatten_img.append(list(img.flatten()))"
   ]
  },
  {
   "cell_type": "code",
   "execution_count": 5,
   "metadata": {},
   "outputs": [
    {
     "name": "stdout",
     "output_type": "stream",
     "text": [
      "1024\n",
      "1024\n"
     ]
    }
   ],
   "source": [
    "print(len(trainflatten_img[0]))\n",
    "print(len(testflatten_img[0]))"
   ]
  },
  {
   "cell_type": "code",
   "execution_count": 6,
   "metadata": {},
   "outputs": [],
   "source": [
    "def cc_fun(imageA,imageB,normalize):\n",
    "\n",
    "    if normalize == 'y':\n",
    "          cor = np.sum(np.multiply(np.array(imageA),np.array(imageB))) / np.sqrt(np.sum(np.square(np.array(imageA)))*np.sum(np.square(np.array(imageB))))\n",
    "    else:  \n",
    "          cor = np.sum(np.multiply(np.array(imageA),np.array(imageB)))\n",
    "            \n",
    "    return cor\n",
    "\n",
    "def conv_fun(imageA,imageB,normalize):\n",
    "    if normalize == 'y':\n",
    "        imageA = (imageA-np.mean(imageA))/(np.std(imageA))\n",
    "        imageB = (imageB-np.mean(imageB))/(np.std(imageB))\n",
    "        conv = np.sum(np.multiply(np.array(imageA),np.array(np.flipud(imageB))))\n",
    "    else:\n",
    "        conv = np.sum(np.multiply(np.array(imageA),np.array(np.flipud(imageB))))\n",
    "        \n",
    "    return conv\n",
    "\n",
    "def ssd_fun(imageA,imageB,normalize):\n",
    "    if normalize == 'y':\n",
    "        imageA = (imageA-np.mean(imageA))/(np.std(imageA))\n",
    "        imageB = (imageB-np.mean(imageB))/(np.std(imageB))\n",
    "        ssd = np.sum((np.array(imageA) - np.array(imageB))**2)\n",
    "    else:                  \n",
    "        ssd = np.sum((np.array(imageA) - np.array(imageB))**2)\n",
    "                       \n",
    "    return ssd\n",
    "\n",
    "def matchingImages( imageA, imageB, method, normalize='n'):\n",
    "    if method == 'cc' : \n",
    "        return cc_fun(imageA,imageB,normalize)\n",
    "    elif method == 'conv' :\n",
    "        return conv_fun(imageA,imageB,normalize)\n",
    "    elif method == 'ssd' : \n",
    "        return ssd_fun(imageA,imageB,normalize)"
   ]
  },
  {
   "cell_type": "code",
   "execution_count": 7,
   "metadata": {},
   "outputs": [
    {
     "name": "stdout",
     "output_type": "stream",
     "text": [
      "8.144514609765483\n"
     ]
    }
   ],
   "source": [
    "import random\n",
    "i = random.choice(range(len(trainflatten_img)))\n",
    "j = random.choice(range(len(trainflatten_img)))\n",
    "print(matchingImages(trainflatten_img[i],trainflatten_img[j],'ssd','n'))"
   ]
  },
  {
   "cell_type": "markdown",
   "metadata": {},
   "source": [
    "# Pair images"
   ]
  },
  {
   "cell_type": "code",
   "execution_count": 8,
   "metadata": {},
   "outputs": [],
   "source": [
    "from itertools import combinations        \n",
    "import pandas as pd\n",
    "\n",
    "pairs = pd.DataFrame(columns=('imageA','imageB','Label'))\n",
    "counter=0      \n",
    "res = list(combinations(trainflatten_img, 2))\n",
    "for i in range(len(res)):\n",
    "    pairs.at[counter,'imageA']=res[i][0]\n",
    "    pairs.at[counter,'imageB']=res[i][1]\n",
    "    counter+=1\n",
    "\n",
    "test_pairs = pd.DataFrame(columns=('imageA','imageB','Label'))\n",
    "count=0  \n",
    "res_test = list(combinations(testflatten_img, 2))\n",
    "for i in range(len(res_test)):\n",
    "    test_pairs.at[count,'imageA']=res_test[i][0]\n",
    "    test_pairs.at[count,'imageB']=res_test[i][1]\n",
    "    count+=1"
   ]
  },
  {
   "cell_type": "code",
   "execution_count": 9,
   "metadata": {},
   "outputs": [
    {
     "data": {
      "text/html": [
       "<div>\n",
       "<style scoped>\n",
       "    .dataframe tbody tr th:only-of-type {\n",
       "        vertical-align: middle;\n",
       "    }\n",
       "\n",
       "    .dataframe tbody tr th {\n",
       "        vertical-align: top;\n",
       "    }\n",
       "\n",
       "    .dataframe thead th {\n",
       "        text-align: right;\n",
       "    }\n",
       "</style>\n",
       "<table border=\"1\" class=\"dataframe\">\n",
       "  <thead>\n",
       "    <tr style=\"text-align: right;\">\n",
       "      <th></th>\n",
       "      <th>imageA</th>\n",
       "      <th>imageB</th>\n",
       "      <th>Label</th>\n",
       "    </tr>\n",
       "  </thead>\n",
       "  <tbody>\n",
       "    <tr>\n",
       "      <th>0</th>\n",
       "      <td>[0.4960784313725489, 0.5019607843137255, 0.452...</td>\n",
       "      <td>[0.4, 0.4215686274509804, 0.43823529411764706,...</td>\n",
       "      <td>NaN</td>\n",
       "    </tr>\n",
       "    <tr>\n",
       "      <th>1</th>\n",
       "      <td>[0.4960784313725489, 0.5019607843137255, 0.452...</td>\n",
       "      <td>[0.48725490196078425, 0.48627450980392156, 0.4...</td>\n",
       "      <td>NaN</td>\n",
       "    </tr>\n",
       "    <tr>\n",
       "      <th>2</th>\n",
       "      <td>[0.4960784313725489, 0.5019607843137255, 0.452...</td>\n",
       "      <td>[0.5617647058823529, 0.5343137254901962, 0.456...</td>\n",
       "      <td>NaN</td>\n",
       "    </tr>\n",
       "    <tr>\n",
       "      <th>3</th>\n",
       "      <td>[0.4960784313725489, 0.5019607843137255, 0.452...</td>\n",
       "      <td>[0.45294117647058835, 0.4647058823529411, 0.47...</td>\n",
       "      <td>NaN</td>\n",
       "    </tr>\n",
       "    <tr>\n",
       "      <th>4</th>\n",
       "      <td>[0.4960784313725489, 0.5019607843137255, 0.452...</td>\n",
       "      <td>[0.5196078431372548, 0.4784313725490196, 0.486...</td>\n",
       "      <td>NaN</td>\n",
       "    </tr>\n",
       "  </tbody>\n",
       "</table>\n",
       "</div>"
      ],
      "text/plain": [
       "                                              imageA  \\\n",
       "0  [0.4960784313725489, 0.5019607843137255, 0.452...   \n",
       "1  [0.4960784313725489, 0.5019607843137255, 0.452...   \n",
       "2  [0.4960784313725489, 0.5019607843137255, 0.452...   \n",
       "3  [0.4960784313725489, 0.5019607843137255, 0.452...   \n",
       "4  [0.4960784313725489, 0.5019607843137255, 0.452...   \n",
       "\n",
       "                                              imageB Label  \n",
       "0  [0.4, 0.4215686274509804, 0.43823529411764706,...   NaN  \n",
       "1  [0.48725490196078425, 0.48627450980392156, 0.4...   NaN  \n",
       "2  [0.5617647058823529, 0.5343137254901962, 0.456...   NaN  \n",
       "3  [0.45294117647058835, 0.4647058823529411, 0.47...   NaN  \n",
       "4  [0.5196078431372548, 0.4784313725490196, 0.486...   NaN  "
      ]
     },
     "execution_count": 9,
     "metadata": {},
     "output_type": "execute_result"
    }
   ],
   "source": [
    "pairs.head()"
   ]
  },
  {
   "cell_type": "markdown",
   "metadata": {},
   "source": [
    "# Train data & Test data"
   ]
  },
  {
   "cell_type": "code",
   "execution_count": 10,
   "metadata": {},
   "outputs": [],
   "source": [
    "class1=trainflatten_img[:30]\n",
    "class2=trainflatten_img[30:60]\n",
    "class3=trainflatten_img[60:90]\n",
    "class4=trainflatten_img[90:120]\n",
    "class5=trainflatten_img[120:150]\n",
    "class6=trainflatten_img[150:]\n",
    "\n",
    "# print(len(class1))\n",
    "# print(len(class2))\n",
    "# print(len(class3))\n",
    "# print(len(class4))\n",
    "# print(len(class5))\n",
    "# print(len(class6))\n",
    "\n",
    "truth = pairs.copy()\n",
    "for i in range(len(truth)):\n",
    "    if truth.imageA[i] in class1 and truth.imageB[i] in class1:\n",
    "        truth.loc[i,'Label']=1\n",
    "    elif truth.imageA[i] in class2 and truth.imageB[i] in class2:\n",
    "        truth.loc[i,'Label']=1\n",
    "    elif truth.imageA[i] in class3 and truth.imageB[i] in class3:\n",
    "        truth.loc[i,'Label']=1\n",
    "    elif truth.imageA[i] in class4 and truth.imageB[i] in class4:\n",
    "        truth.loc[i,'Label']=1\n",
    "    elif truth.imageA[i] in class5 and truth.imageB[i] in class5:\n",
    "        truth.loc[i,'Label']=1\n",
    "    elif truth.imageA[i] in class6 and truth.imageB[i] in class6:\n",
    "        truth.loc[i,'Label']=1\n",
    "    else: truth.loc[i,'Label']=0\n"
   ]
  },
  {
   "cell_type": "code",
   "execution_count": 11,
   "metadata": {},
   "outputs": [
    {
     "data": {
      "text/html": [
       "<div>\n",
       "<style scoped>\n",
       "    .dataframe tbody tr th:only-of-type {\n",
       "        vertical-align: middle;\n",
       "    }\n",
       "\n",
       "    .dataframe tbody tr th {\n",
       "        vertical-align: top;\n",
       "    }\n",
       "\n",
       "    .dataframe thead th {\n",
       "        text-align: right;\n",
       "    }\n",
       "</style>\n",
       "<table border=\"1\" class=\"dataframe\">\n",
       "  <thead>\n",
       "    <tr style=\"text-align: right;\">\n",
       "      <th></th>\n",
       "      <th>imageA</th>\n",
       "      <th>imageB</th>\n",
       "      <th>Label</th>\n",
       "    </tr>\n",
       "  </thead>\n",
       "  <tbody>\n",
       "    <tr>\n",
       "      <th>0</th>\n",
       "      <td>[0.4960784313725489, 0.5019607843137255, 0.452...</td>\n",
       "      <td>[0.4, 0.4215686274509804, 0.43823529411764706,...</td>\n",
       "      <td>1</td>\n",
       "    </tr>\n",
       "    <tr>\n",
       "      <th>1</th>\n",
       "      <td>[0.4960784313725489, 0.5019607843137255, 0.452...</td>\n",
       "      <td>[0.48725490196078425, 0.48627450980392156, 0.4...</td>\n",
       "      <td>1</td>\n",
       "    </tr>\n",
       "    <tr>\n",
       "      <th>2</th>\n",
       "      <td>[0.4960784313725489, 0.5019607843137255, 0.452...</td>\n",
       "      <td>[0.5617647058823529, 0.5343137254901962, 0.456...</td>\n",
       "      <td>1</td>\n",
       "    </tr>\n",
       "    <tr>\n",
       "      <th>3</th>\n",
       "      <td>[0.4960784313725489, 0.5019607843137255, 0.452...</td>\n",
       "      <td>[0.45294117647058835, 0.4647058823529411, 0.47...</td>\n",
       "      <td>1</td>\n",
       "    </tr>\n",
       "    <tr>\n",
       "      <th>4</th>\n",
       "      <td>[0.4960784313725489, 0.5019607843137255, 0.452...</td>\n",
       "      <td>[0.5196078431372548, 0.4784313725490196, 0.486...</td>\n",
       "      <td>1</td>\n",
       "    </tr>\n",
       "  </tbody>\n",
       "</table>\n",
       "</div>"
      ],
      "text/plain": [
       "                                              imageA  \\\n",
       "0  [0.4960784313725489, 0.5019607843137255, 0.452...   \n",
       "1  [0.4960784313725489, 0.5019607843137255, 0.452...   \n",
       "2  [0.4960784313725489, 0.5019607843137255, 0.452...   \n",
       "3  [0.4960784313725489, 0.5019607843137255, 0.452...   \n",
       "4  [0.4960784313725489, 0.5019607843137255, 0.452...   \n",
       "\n",
       "                                              imageB Label  \n",
       "0  [0.4, 0.4215686274509804, 0.43823529411764706,...     1  \n",
       "1  [0.48725490196078425, 0.48627450980392156, 0.4...     1  \n",
       "2  [0.5617647058823529, 0.5343137254901962, 0.456...     1  \n",
       "3  [0.45294117647058835, 0.4647058823529411, 0.47...     1  \n",
       "4  [0.5196078431372548, 0.4784313725490196, 0.486...     1  "
      ]
     },
     "execution_count": 11,
     "metadata": {},
     "output_type": "execute_result"
    }
   ],
   "source": [
    "truth.head()"
   ]
  },
  {
   "cell_type": "code",
   "execution_count": 12,
   "metadata": {},
   "outputs": [
    {
     "data": {
      "text/plain": [
       "(array([13500.,     0.,     0.,     0.,     0.,     0.,     0.,     0.,\n",
       "            0.,  2610.]),\n",
       " array([0.0, 0.1, 0.2, 0.30000000000000004, 0.4, 0.5, 0.6000000000000001,\n",
       "        0.7000000000000001, 0.8, 0.9, 1.0], dtype=object),\n",
       " <BarContainer object of 10 artists>)"
      ]
     },
     "execution_count": 12,
     "metadata": {},
     "output_type": "execute_result"
    },
    {
     "data": {
      "image/png": "[encoded data removed]",
      "text/plain": [
       "<Figure size 432x288 with 1 Axes>"
      ]
     },
     "metadata": {
      "needs_background": "light"
     },
     "output_type": "display_data"
    }
   ],
   "source": [
    "from matplotlib.pyplot import hist\n",
    "plt.hist(truth['Label'])"
   ]
  },
  {
   "cell_type": "code",
   "execution_count": 13,
   "metadata": {},
   "outputs": [],
   "source": [
    "class1=testflatten_img[:10]\n",
    "class2=testflatten_img[10:20]\n",
    "class3=testflatten_img[20:30]\n",
    "class4=testflatten_img[30:40]\n",
    "class5=testflatten_img[40:50]\n",
    "class6=testflatten_img[50:]\n",
    "\n",
    "# print(len(class1))\n",
    "# print(len(class2))\n",
    "# print(len(class3))\n",
    "# print(len(class4))\n",
    "# print(len(class5))\n",
    "# print(len(class6))\n",
    "\n",
    "testing = test_pairs.copy()\n",
    "for i in range(len(testing)):\n",
    "    if testing.imageA[i] in class1 and testing.imageB[i] in class1:\n",
    "        testing.loc[i,'Label']=1\n",
    "    elif testing.imageA[i] in class2 and testing.imageB[i] in class2:\n",
    "        testing.loc[i,'Label']=1\n",
    "    elif testing.imageA[i] in class3 and testing.imageB[i] in class3:\n",
    "        testing.loc[i,'Label']=1\n",
    "    elif testing.imageA[i] in class4 and testing.imageB[i] in class4:\n",
    "        testing.loc[i,'Label']=1\n",
    "    elif testing.imageA[i] in class5 and testing.imageB[i] in class5:\n",
    "        testing.loc[i,'Label']=1\n",
    "    elif testing.imageA[i] in class6 and testing.imageB[i] in class6:\n",
    "        testing.loc[i,'Label']=1\n",
    "    else: testing.loc[i,'Label']=0\n"
   ]
  },
  {
   "cell_type": "markdown",
   "metadata": {},
   "source": [
    "# classifier data using match images function"
   ]
  },
  {
   "cell_type": "code",
   "execution_count": 14,
   "metadata": {},
   "outputs": [],
   "source": [
    "t_cor_n=[]\n",
    "t_cor=[]\n",
    "t_conv_n=[]\n",
    "t_conv=[]\n",
    "t_ssd_n=[]\n",
    "t_ssd=[]\n",
    "for i in range(len(pairs)):  \n",
    "        t_cor_n.append(matchingImages(pairs.imageA[i],pairs.imageB[i],'cc','y'))\n",
    "        t_cor.append(matchingImages(pairs.imageA[i],pairs.imageB[i],'cc','n'))\n",
    "        t_conv_n.append(matchingImages(pairs.imageA[i],pairs.imageB[i],'conv','y'))\n",
    "        t_conv.append(matchingImages(pairs.imageA[i],pairs.imageB[i],'conv','n'))\n",
    "        t_ssd_n.append(matchingImages(pairs.imageA[i],pairs.imageB[i],'ssd','y'))\n",
    "        t_ssd.append(matchingImages(pairs.imageA[i],pairs.imageB[i],'ssd','n'))\n",
    "Tcor_n = sum(t_cor_n)/len(t_cor_n)\n",
    "Tcor = sum(t_cor)/len(t_cor)\n",
    "Tconv_n = sum(t_conv_n)/len(t_conv_n)\n",
    "Tconv = sum(t_conv)/len(t_conv)\n",
    "Tssd_n = sum(t_ssd_n)/len(t_ssd_n)\n",
    "Tssd = sum(t_ssd)/len(t_ssd)\n"
   ]
  },
  {
   "cell_type": "code",
   "execution_count": 15,
   "metadata": {},
   "outputs": [
    {
     "name": "stdout",
     "output_type": "stream",
     "text": [
      "Tcor_n 0.9853362502604934\n",
      "Tcor 249.98652284276508\n",
      "Tconv_n -5.030632242754579\n",
      "Tconv 249.96776050388772\n",
      "Tssd_n 2031.9820963827817\n",
      "Tssd 7.466723324255023\n"
     ]
    }
   ],
   "source": [
    "print('Tcor_n',Tcor_n)\n",
    "print('Tcor',Tcor)\n",
    "print('Tconv_n',Tconv_n)\n",
    "print('Tconv',Tconv)\n",
    "print('Tssd_n',Tssd_n)\n",
    "print('Tssd',Tssd)"
   ]
  },
  {
   "cell_type": "code",
   "execution_count": 16,
   "metadata": {},
   "outputs": [],
   "source": [
    "classifier = pairs.copy()\n",
    "for i in range(len(classifier)):\n",
    "    t = matchingImages(classifier.imageA[i],classifier.imageB[i],'ssd','n')\n",
    "    if Tssd >= t:\n",
    "        classifier.loc[i,'Label']=1\n",
    "    else:\n",
    "        classifier.loc[i,'Label']=0"
   ]
  },
  {
   "cell_type": "code",
   "execution_count": 17,
   "metadata": {},
   "outputs": [
    {
     "data": {
      "text/html": [
       "<div>\n",
       "<style scoped>\n",
       "    .dataframe tbody tr th:only-of-type {\n",
       "        vertical-align: middle;\n",
       "    }\n",
       "\n",
       "    .dataframe tbody tr th {\n",
       "        vertical-align: top;\n",
       "    }\n",
       "\n",
       "    .dataframe thead th {\n",
       "        text-align: right;\n",
       "    }\n",
       "</style>\n",
       "<table border=\"1\" class=\"dataframe\">\n",
       "  <thead>\n",
       "    <tr style=\"text-align: right;\">\n",
       "      <th></th>\n",
       "      <th>imageA</th>\n",
       "      <th>imageB</th>\n",
       "      <th>Label</th>\n",
       "    </tr>\n",
       "  </thead>\n",
       "  <tbody>\n",
       "    <tr>\n",
       "      <th>0</th>\n",
       "      <td>[0.4960784313725489, 0.5019607843137255, 0.452...</td>\n",
       "      <td>[0.4, 0.4215686274509804, 0.43823529411764706,...</td>\n",
       "      <td>1</td>\n",
       "    </tr>\n",
       "    <tr>\n",
       "      <th>1</th>\n",
       "      <td>[0.4960784313725489, 0.5019607843137255, 0.452...</td>\n",
       "      <td>[0.48725490196078425, 0.48627450980392156, 0.4...</td>\n",
       "      <td>1</td>\n",
       "    </tr>\n",
       "    <tr>\n",
       "      <th>2</th>\n",
       "      <td>[0.4960784313725489, 0.5019607843137255, 0.452...</td>\n",
       "      <td>[0.5617647058823529, 0.5343137254901962, 0.456...</td>\n",
       "      <td>1</td>\n",
       "    </tr>\n",
       "    <tr>\n",
       "      <th>3</th>\n",
       "      <td>[0.4960784313725489, 0.5019607843137255, 0.452...</td>\n",
       "      <td>[0.45294117647058835, 0.4647058823529411, 0.47...</td>\n",
       "      <td>1</td>\n",
       "    </tr>\n",
       "    <tr>\n",
       "      <th>4</th>\n",
       "      <td>[0.4960784313725489, 0.5019607843137255, 0.452...</td>\n",
       "      <td>[0.5196078431372548, 0.4784313725490196, 0.486...</td>\n",
       "      <td>1</td>\n",
       "    </tr>\n",
       "  </tbody>\n",
       "</table>\n",
       "</div>"
      ],
      "text/plain": [
       "                                              imageA  \\\n",
       "0  [0.4960784313725489, 0.5019607843137255, 0.452...   \n",
       "1  [0.4960784313725489, 0.5019607843137255, 0.452...   \n",
       "2  [0.4960784313725489, 0.5019607843137255, 0.452...   \n",
       "3  [0.4960784313725489, 0.5019607843137255, 0.452...   \n",
       "4  [0.4960784313725489, 0.5019607843137255, 0.452...   \n",
       "\n",
       "                                              imageB Label  \n",
       "0  [0.4, 0.4215686274509804, 0.43823529411764706,...     1  \n",
       "1  [0.48725490196078425, 0.48627450980392156, 0.4...     1  \n",
       "2  [0.5617647058823529, 0.5343137254901962, 0.456...     1  \n",
       "3  [0.45294117647058835, 0.4647058823529411, 0.47...     1  \n",
       "4  [0.5196078431372548, 0.4784313725490196, 0.486...     1  "
      ]
     },
     "execution_count": 17,
     "metadata": {},
     "output_type": "execute_result"
    }
   ],
   "source": [
    "classifier.head()"
   ]
  },
  {
   "cell_type": "code",
   "execution_count": 18,
   "metadata": {},
   "outputs": [
    {
     "data": {
      "text/plain": [
       "(array([8018.,    0.,    0.,    0.,    0.,    0.,    0.,    0.,    0.,\n",
       "        8092.]),\n",
       " array([0.0, 0.1, 0.2, 0.30000000000000004, 0.4, 0.5, 0.6000000000000001,\n",
       "        0.7000000000000001, 0.8, 0.9, 1.0], dtype=object),\n",
       " <BarContainer object of 10 artists>)"
      ]
     },
     "execution_count": 18,
     "metadata": {},
     "output_type": "execute_result"
    },
    {
     "data": {
      "image/png": "[encoded data removed]",
      "text/plain": [
       "<Figure size 432x288 with 1 Axes>"
      ]
     },
     "metadata": {
      "needs_background": "light"
     },
     "output_type": "display_data"
    }
   ],
   "source": [
    "from matplotlib.pyplot import hist\n",
    "plt.hist(classifier['Label'])"
   ]
  },
  {
   "cell_type": "markdown",
   "metadata": {},
   "source": [
    "## validate classification data using validation data"
   ]
  },
  {
   "cell_type": "code",
   "execution_count": 19,
   "metadata": {},
   "outputs": [],
   "source": [
    "val_tru = truth.loc[:4110]\n",
    "val_clas = classifier.loc[:4110]"
   ]
  },
  {
   "cell_type": "code",
   "execution_count": 20,
   "metadata": {},
   "outputs": [
    {
     "name": "stdout",
     "output_type": "stream",
     "text": [
      "              precision    recall  f1-score   support\n",
      "\n",
      "           0       1.00      0.24      0.39      3686\n",
      "           1       0.13      1.00      0.23       425\n",
      "\n",
      "    accuracy                           0.32      4111\n",
      "   macro avg       0.57      0.62      0.31      4111\n",
      "weighted avg       0.91      0.32      0.37      4111\n",
      "\n"
     ]
    }
   ],
   "source": [
    "from sklearn.metrics import classification_report\n",
    "\n",
    "print(classification_report(val_tru['Label'].astype(int), val_clas['Label'].astype(int)))"
   ]
  },
  {
   "cell_type": "code",
   "execution_count": 21,
   "metadata": {},
   "outputs": [
    {
     "data": {
      "text/plain": [
       "array([[ 886, 2800],\n",
       "       [   0,  425]], dtype=int64)"
      ]
     },
     "execution_count": 21,
     "metadata": {},
     "output_type": "execute_result"
    }
   ],
   "source": [
    "from sklearn.metrics import confusion_matrix\n",
    "confusion_matrix(val_tru['Label'].astype(int), val_clas['Label'].astype(int))"
   ]
  },
  {
   "cell_type": "markdown",
   "metadata": {},
   "source": [
    "## validate classification data using testing data"
   ]
  },
  {
   "cell_type": "code",
   "execution_count": 22,
   "metadata": {},
   "outputs": [],
   "source": [
    "test_classifier = test_pairs.copy()\n",
    "for i in range(len(test_classifier)):\n",
    "    t = matchingImages(test_classifier.imageA[i],test_classifier.imageB[i],'ssd','n')\n",
    "    if Tssd >= t:\n",
    "        test_classifier.loc[i,'Label']=1\n",
    "    else:\n",
    "        test_classifier.loc[i,'Label']=0"
   ]
  },
  {
   "cell_type": "code",
   "execution_count": 23,
   "metadata": {},
   "outputs": [
    {
     "name": "stdout",
     "output_type": "stream",
     "text": [
      "              precision    recall  f1-score   support\n",
      "\n",
      "           0       0.85      0.55      0.66      1500\n",
      "           1       0.15      0.46      0.23       270\n",
      "\n",
      "    accuracy                           0.53      1770\n",
      "   macro avg       0.50      0.50      0.45      1770\n",
      "weighted avg       0.74      0.53      0.60      1770\n",
      "\n"
     ]
    }
   ],
   "source": [
    "from sklearn.metrics import classification_report\n",
    "\n",
    "print(classification_report(testing['Label'].astype(int), test_classifier['Label'].astype(int)))"
   ]
  },
  {
   "cell_type": "markdown",
   "metadata": {},
   "source": [
    "# MLP classifier"
   ]
  },
  {
   "cell_type": "code",
   "execution_count": 24,
   "metadata": {},
   "outputs": [],
   "source": [
    "Train = []\n",
    "#concatenate images\n",
    "for i in range(len(truth)):\n",
    "    li = truth.imageA[i].copy()\n",
    "    for j in truth.imageB[i] : \n",
    "        li.append(j) \n",
    "    Train.append(li)\n",
    "#np.array(train).shape\n",
    "\n"
   ]
  },
  {
   "cell_type": "markdown",
   "metadata": {},
   "source": [
    "## before sampling"
   ]
  },
  {
   "cell_type": "code",
   "execution_count": 25,
   "metadata": {},
   "outputs": [],
   "source": [
    "from sklearn.neural_network import MLPClassifier\n",
    "from sklearn.datasets import make_classification\n",
    "from sklearn.model_selection import train_test_split\n",
    "y = (truth['Label'].loc[4110:]).astype(int)\n",
    "# X_train, X_test, y_train, y_test = train_test_split(np.array(train[4110:]), y, stratify=y,random_state=1)\n",
    "clf = MLPClassifier(random_state=1, max_iter=300).fit(np.array(Train[4110:]), y)\n"
   ]
  },
  {
   "cell_type": "code",
   "execution_count": 26,
   "metadata": {},
   "outputs": [
    {
     "name": "stdout",
     "output_type": "stream",
     "text": [
      "              precision    recall  f1-score   support\n",
      "\n",
      "           0       0.85      0.44      0.58      3686\n",
      "           1       0.07      0.34      0.11       425\n",
      "\n",
      "    accuracy                           0.43      4111\n",
      "   macro avg       0.46      0.39      0.34      4111\n",
      "weighted avg       0.77      0.43      0.53      4111\n",
      "\n"
     ]
    }
   ],
   "source": [
    "val = []\n",
    "#concatenate images\n",
    "for i in range(len(val_tru)):\n",
    "    li = val_tru.imageA[i].copy()\n",
    "    for j in val_tru.imageB[i] : \n",
    "        li.append(j) \n",
    "    val.append(li)\n",
    "y_pred = clf.predict(np.array(val))\n",
    "print(classification_report(val_tru['Label'].astype(int), y_pred))"
   ]
  },
  {
   "cell_type": "code",
   "execution_count": 27,
   "metadata": {},
   "outputs": [],
   "source": [
    "from sklearn.neural_network import MLPClassifier\n",
    "from sklearn.datasets import make_classification\n",
    "from sklearn.model_selection import train_test_split\n",
    "y = (truth['Label']).astype(int)\n",
    "# X_train, X_test, y_train, y_test = train_test_split(np.array(train[4110:]), y, stratify=y,random_state=1)\n",
    "clf = MLPClassifier(random_state=1, max_iter=300).fit(np.array(Train), y)\n"
   ]
  },
  {
   "cell_type": "code",
   "execution_count": 28,
   "metadata": {},
   "outputs": [
    {
     "name": "stdout",
     "output_type": "stream",
     "text": [
      "              precision    recall  f1-score   support\n",
      "\n",
      "           0       0.88      0.32      0.47      1500\n",
      "           1       0.17      0.76      0.28       270\n",
      "\n",
      "    accuracy                           0.39      1770\n",
      "   macro avg       0.52      0.54      0.37      1770\n",
      "weighted avg       0.77      0.39      0.44      1770\n",
      "\n"
     ]
    }
   ],
   "source": [
    "t = []\n",
    "#concatenate images\n",
    "for i in range(len(testing)):\n",
    "    li = testing.imageA[i].copy()\n",
    "    for j in testing.imageB[i] : \n",
    "        li.append(j) \n",
    "    t.append(li)\n",
    "y_pred = clf.predict(np.array(t))\n",
    "print(classification_report(testing['Label'].astype(int), y_pred))"
   ]
  },
  {
   "cell_type": "markdown",
   "metadata": {},
   "source": [
    "## after sampling"
   ]
  },
  {
   "cell_type": "code",
   "execution_count": 29,
   "metadata": {},
   "outputs": [],
   "source": [
    "from imblearn.under_sampling import RandomUnderSampler\n",
    "rus = RandomUnderSampler(sampling_strategy='majority')\n",
    "X_res, y_res = rus.fit_resample(np.array(Train[4110:]), (truth['Label'].loc[4110:]).astype(int))"
   ]
  },
  {
   "cell_type": "code",
   "execution_count": 30,
   "metadata": {},
   "outputs": [
    {
     "data": {
      "text/plain": [
       "(array([2185.,    0.,    0.,    0.,    0.,    0.,    0.,    0.,    0.,\n",
       "        2185.]),\n",
       " array([0. , 0.1, 0.2, 0.3, 0.4, 0.5, 0.6, 0.7, 0.8, 0.9, 1. ]),\n",
       " <BarContainer object of 10 artists>)"
      ]
     },
     "execution_count": 30,
     "metadata": {},
     "output_type": "execute_result"
    },
    {
     "data": {
      "image/png": "[encoded data removed]",
      "text/plain": [
       "<Figure size 432x288 with 1 Axes>"
      ]
     },
     "metadata": {
      "needs_background": "light"
     },
     "output_type": "display_data"
    }
   ],
   "source": [
    "plt.hist(y_res)"
   ]
  },
  {
   "cell_type": "code",
   "execution_count": 31,
   "metadata": {},
   "outputs": [
    {
     "name": "stdout",
     "output_type": "stream",
     "text": [
      "              precision    recall  f1-score   support\n",
      "\n",
      "           0       0.89      0.23      0.36      3686\n",
      "           1       0.10      0.75      0.18       425\n",
      "\n",
      "    accuracy                           0.28      4111\n",
      "   macro avg       0.49      0.49      0.27      4111\n",
      "weighted avg       0.81      0.28      0.34      4111\n",
      "\n"
     ]
    },
    {
     "name": "stderr",
     "output_type": "stream",
     "text": [
      "C:\\Users\\potato\\anaconda3\\lib\\site-packages\\sklearn\\neural_network\\_multilayer_perceptron.py:614: ConvergenceWarning: Stochastic Optimizer: Maximum iterations (300) reached and the optimization hasn't converged yet.\n",
      "  warnings.warn(\n"
     ]
    }
   ],
   "source": [
    "from sklearn.neural_network import MLPClassifier\n",
    "# X_train_, X_test_, y_train_, y_test_ = train_test_split(X_res, y_res, stratify=y_res,random_state=42)\n",
    "clf = MLPClassifier(random_state=1, max_iter=300).fit(X_res, y_res)\n",
    "y_pred = clf.predict(np.array(val))\n",
    "print(classification_report(val_tru['Label'].astype(int), y_pred))"
   ]
  },
  {
   "cell_type": "code",
   "execution_count": 32,
   "metadata": {},
   "outputs": [],
   "source": [
    "rus = RandomUnderSampler(sampling_strategy='majority')\n",
    "X_res, y_res = rus.fit_resample(np.array(Train), (truth['Label']).astype(int))"
   ]
  },
  {
   "cell_type": "code",
   "execution_count": 33,
   "metadata": {},
   "outputs": [
    {
     "name": "stdout",
     "output_type": "stream",
     "text": [
      "              precision    recall  f1-score   support\n",
      "\n",
      "           0       0.86      0.41      0.55      1500\n",
      "           1       0.16      0.63      0.26       270\n",
      "\n",
      "    accuracy                           0.44      1770\n",
      "   macro avg       0.51      0.52      0.41      1770\n",
      "weighted avg       0.75      0.44      0.51      1770\n",
      "\n"
     ]
    }
   ],
   "source": [
    "from sklearn.neural_network import MLPClassifier\n",
    "# X_train_, X_test_, y_train_, y_test_ = train_test_split(X_res, y_res, stratify=y_res,random_state=42)\n",
    "clf = MLPClassifier(random_state=1, max_iter=300).fit(X_res, y_res)\n",
    "y_pred = clf.predict(t)\n",
    "print(classification_report(testing['Label'].astype(int), y_pred))"
   ]
  },
  {
   "cell_type": "markdown",
   "metadata": {},
   "source": [
    "- The accuracy of classifier according to a subset of data (validation data) with ssd as a matching method = 32%\n",
    "- The accuracy of classifier according to testing data = 53%\n",
    "- The accuracy of MLP model according to validation data before under sampling = 43%\n",
    "- The accuracy of MLP model according to testing data before under sampling =  39%\n",
    "- The accuracy of MLP model according to validation data after under sampling = 28%\n",
    "- The accuracy of MLP model according to testing data after under sampling = 44%\n",
    "\n",
    "From these accuracies we can say that the best is classifier model, that model predict better than the MLP before and after under sampling. Also under sampling make the model better may be beacuse the under sampling decrease the data so the model learn accuratly. and before under sampling the accuracy of MLP was worst than the classifier may be beacuse the data in MLP was unbalanced but in classifier the data was balanced.\n",
    "\n",
    "The classifier model needed much effort than the MLP model because MLP was a builtin algorithm in sklearn in the oppesit of classifier model which needed many loops and many steps to get the treshold to classify the data.but the both of them weren't took much time to predict."
   ]
  },
  {
   "cell_type": "markdown",
   "metadata": {},
   "source": [
    "# Feature Engineering an Filtring "
   ]
  },
  {
   "cell_type": "code",
   "execution_count": null,
   "metadata": {},
   "outputs": [],
   "source": []
  },
  {
   "cell_type": "code",
   "execution_count": 53,
   "metadata": {},
   "outputs": [],
   "source": [
    "import numpy as np\n",
    "def features(imgs,bin=32):\n",
    "    li = []\n",
    "    for i in np.array(imgs):\n",
    "        f, edges= np.histogram(i,bins=bin)\n",
    "        li.append(f)\n",
    "    return li"
   ]
  },
  {
   "cell_type": "code",
   "execution_count": 54,
   "metadata": {},
   "outputs": [],
   "source": [
    "Train = features(Train)\n"
   ]
  },
  {
   "cell_type": "code",
   "execution_count": 55,
   "metadata": {},
   "outputs": [],
   "source": [
    "Test = features(t)"
   ]
  },
  {
   "cell_type": "code",
   "execution_count": 56,
   "metadata": {},
   "outputs": [],
   "source": [
    "from sklearn.neural_network import MLPClassifier\n",
    "from sklearn.datasets import make_classification\n",
    "from sklearn.model_selection import train_test_split\n",
    "y = (truth['Label'].loc[4110:]).astype(int)\n",
    "# X_train, X_test, y_train, y_test = train_test_split(np.array(train[4110:]), y, stratify=y,random_state=1)\n",
    "\n",
    "clf = MLPClassifier(random_state=1, max_iter=300).fit(np.array(Train[4110:]), y)\n"
   ]
  },
  {
   "cell_type": "code",
   "execution_count": 58,
   "metadata": {},
   "outputs": [
    {
     "name": "stdout",
     "output_type": "stream",
     "text": [
      "              precision    recall  f1-score   support\n",
      "\n",
      "           0       0.95      0.81      0.88      3686\n",
      "           1       0.29      0.67      0.40       425\n",
      "\n",
      "    accuracy                           0.79      4111\n",
      "   macro avg       0.62      0.74      0.64      4111\n",
      "weighted avg       0.89      0.79      0.83      4111\n",
      "\n",
      "0       1\n",
      "1       1\n",
      "2       1\n",
      "3       1\n",
      "4       1\n",
      "       ..\n",
      "4106    0\n",
      "4107    0\n",
      "4108    0\n",
      "4109    0\n",
      "4110    0\n",
      "Name: Label, Length: 4111, dtype: object\n"
     ]
    }
   ],
   "source": [
    "val = []\n",
    "val_tru = truth.loc[:4110]\n",
    "#concatenate images\n",
    "for i in range(len(val_tru)):\n",
    "    li = val_tru.imageA[i].copy()\n",
    "    for j in val_tru.imageB[i] : \n",
    "        li.append(j) \n",
    "    val.append(li)\n",
    "val = features(val)   \n",
    "y_pred = clf.predict(np.array(val))\n",
    "print(classification_report(val_tru['Label'].astype(int), y_pred))\n"
   ]
  },
  {
   "cell_type": "code",
   "execution_count": 59,
   "metadata": {},
   "outputs": [],
   "source": [
    "from sklearn.neural_network import MLPClassifier\n",
    "from sklearn.datasets import make_classification\n",
    "from sklearn.model_selection import train_test_split\n",
    "y = (truth['Label']).astype(int)\n",
    "# X_train, X_test, y_train, y_test = train_test_split(np.array(train[4110:]), y, stratify=y,random_state=1)\n",
    "clf = MLPClassifier(random_state=1, max_iter=300).fit(np.array(Train), y)\n"
   ]
  },
  {
   "cell_type": "code",
   "execution_count": 61,
   "metadata": {},
   "outputs": [
    {
     "name": "stdout",
     "output_type": "stream",
     "text": [
      "              precision    recall  f1-score   support\n",
      "\n",
      "           0       0.92      0.93      0.93      1500\n",
      "           1       0.60      0.58      0.59       270\n",
      "\n",
      "    accuracy                           0.88      1770\n",
      "   macro avg       0.76      0.75      0.76      1770\n",
      "weighted avg       0.88      0.88      0.88      1770\n",
      "\n"
     ]
    }
   ],
   "source": [
    "y_pred = clf.predict(np.array(Test))\n",
    "print(classification_report(testing['Label'].astype(int), y_pred))"
   ]
  },
  {
   "cell_type": "markdown",
   "metadata": {},
   "source": [
    "As expected the filtring increase the accuracy of the model because it get more features to train on it and learned more.Feature engineering is the process of transforming raw data into features that better represent the underlying problem to the predictive models, resulting in improved model accuracy on unseen data.The accuracy become 88% which is better than the last 2 classifiers."
   ]
  },
  {
   "cell_type": "code",
   "execution_count": 35,
   "metadata": {},
   "outputs": [],
   "source": []
  },
  {
   "cell_type": "code",
   "execution_count": 36,
   "metadata": {},
   "outputs": [],
   "source": []
  },
  {
   "cell_type": "code",
   "execution_count": 37,
   "metadata": {},
   "outputs": [],
   "source": []
  },
  {
   "cell_type": "code",
   "execution_count": 38,
   "metadata": {},
   "outputs": [],
   "source": []
  },
  {
   "cell_type": "code",
   "execution_count": 39,
   "metadata": {},
   "outputs": [],
   "source": []
  },
  {
   "cell_type": "code",
   "execution_count": 40,
   "metadata": {},
   "outputs": [],
   "source": []
  },
  {
   "cell_type": "code",
   "execution_count": null,
   "metadata": {},
   "outputs": [],
   "source": []
  }
 ],
 "metadata": {
  "kernelspec": {
   "display_name": "Python 3",
   "language": "python",
   "name": "python3"
  },
  "language_info": {
   "codemirror_mode": {
    "name": "ipython",
    "version": 3
   },
   "file_extension": ".py",
   "mimetype": "text/x-python",
   "name": "python",
   "nbconvert_exporter": "python",
   "pygments_lexer": "ipython3",
   "version": "3.8.8"
  }
 },
 "nbformat": 4,
 "nbformat_minor": 4
}
